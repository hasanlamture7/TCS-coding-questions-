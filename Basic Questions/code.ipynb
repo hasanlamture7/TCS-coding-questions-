{
 "cells": [
  {
   "cell_type": "markdown",
   "metadata": {},
   "source": [
    "The First 30 basic codes"
   ]
  },
  {
   "cell_type": "markdown",
   "metadata": {},
   "source": [
    "Q1 :Check if a Number is Positive and Negative in Python"
   ]
  },
  {
   "cell_type": "code",
   "execution_count": null,
   "metadata": {},
   "outputs": [],
   "source": [
    "a=int(input(\"Enter a number to check it is positive or not\"))\n",
    "\n",
    "if a>0:\n",
    "    print(f\"{a} is Positive\")\n",
    "elif a==0:\n",
    "    print(f\"{a} is zero\")\n",
    "else:\n",
    "    print(f\"{a} is negative\")"
   ]
  },
  {
   "cell_type": "code",
   "execution_count": null,
   "metadata": {},
   "outputs": [],
   "source": []
  }
 ],
 "metadata": {
  "kernelspec": {
   "display_name": "Python 3",
   "language": "python",
   "name": "python3"
  },
  "language_info": {
   "codemirror_mode": {
    "name": "ipython",
    "version": 3
   },
   "file_extension": ".py",
   "mimetype": "text/x-python",
   "name": "python",
   "nbconvert_exporter": "python",
   "pygments_lexer": "ipython3",
   "version": "3.13.2"
  }
 },
 "nbformat": 4,
 "nbformat_minor": 2
}
