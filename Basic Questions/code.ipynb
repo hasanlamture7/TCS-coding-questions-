{
 "cells": [
  {
   "cell_type": "markdown",
   "metadata": {},
   "source": [
    "The First 30 basic codes"
   ]
  },
  {
   "cell_type": "markdown",
   "metadata": {},
   "source": [
    "Q1 :Check if a Number is Positive and Negative in Python"
   ]
  },
  {
   "cell_type": "code",
   "execution_count": 2,
   "metadata": {},
   "outputs": [
    {
     "name": "stdout",
     "output_type": "stream",
     "text": [
      "2 is Positive\n"
     ]
    }
   ],
   "source": [
    "a=int(input(\"Enter a number to check it is positive or not\"))\n",
    "\n",
    "if a>0:\n",
    "    print(f\"{a} is Positive\")\n",
    "elif a==0:\n",
    "    print(f\"{a} is zero\")\n",
    "else:\n",
    "    print(f\"{a} is negative\")"
   ]
  },
  {
   "cell_type": "markdown",
   "metadata": {},
   "source": [
    "Q 1:Check Whether a Number is Even or Odd in Python"
   ]
  },
  {
   "cell_type": "code",
   "execution_count": 3,
   "metadata": {},
   "outputs": [
    {
     "name": "stdout",
     "output_type": "stream",
     "text": [
      "2 is Even\n"
     ]
    }
   ],
   "source": [
    "b=int(input(\"Enter a number to check it is positive or not\"))\n",
    "\n",
    "if b%2==0:\n",
    "    print(f\"{a} is Even\")\n",
    "else:\n",
    "    print(f\"{a} is odd\")"
   ]
  },
  {
   "cell_type": "markdown",
   "metadata": {},
   "source": [
    "Q 3:Find the Sum of the First N Natural Numbers in Python"
   ]
  },
  {
   "cell_type": "code",
   "execution_count": 7,
   "metadata": {},
   "outputs": [
    {
     "name": "stdout",
     "output_type": "stream",
     "text": [
      "15\n"
     ]
    }
   ],
   "source": [
    "sum=0\n",
    "for i in range(1,6):\n",
    "    sum+=i\n",
    "print(sum)"
   ]
  },
  {
   "cell_type": "markdown",
   "metadata": {},
   "source": [
    "Q 4: Find the Sum of N Natural Numbers"
   ]
  },
  {
   "cell_type": "code",
   "execution_count": 8,
   "metadata": {},
   "outputs": [
    {
     "name": "stdout",
     "output_type": "stream",
     "text": [
      "55\n"
     ]
    }
   ],
   "source": [
    "c=int(input(\"Enter a number to get sum\"))\n",
    "sum=0\n",
    "for i in range(c+1):\n",
    "    sum+=i\n",
    "print(sum)"
   ]
  },
  {
   "cell_type": "markdown",
   "metadata": {},
   "source": [
    "Q5 :Find the Sum of the Numbers in a Given Interval in Python Language"
   ]
  },
  {
   "cell_type": "code",
   "execution_count": 10,
   "metadata": {},
   "outputs": [
    {
     "name": "stdout",
     "output_type": "stream",
     "text": [
      "18\n"
     ]
    }
   ],
   "source": [
    "num1=3\n",
    "num2=6\n",
    "sum=0\n",
    "for i in range(num1,num2+1):\n",
    "    sum+=i\n",
    "print(sum)"
   ]
  },
  {
   "cell_type": "markdown",
   "metadata": {},
   "source": [
    "Q 6:Find the Greatest of the Two Numbers in Python Language"
   ]
  },
  {
   "cell_type": "code",
   "execution_count": 13,
   "metadata": {},
   "outputs": [
    {
     "name": "stdout",
     "output_type": "stream",
     "text": [
      "6 is greater\n"
     ]
    }
   ],
   "source": [
    "a=int(input(\"Enter the first number\"))\n",
    "b=int(input(\"Enter the second number\"))\n",
    "\n",
    "if a>b:\n",
    "    print(f\"{a}is greater number\")\n",
    "elif a<b:\n",
    "    print(f\"{b} is greater\")\n",
    "else:\n",
    "    print (f\"{a} is equal to {b}\")"
   ]
  },
  {
   "cell_type": "markdown",
   "metadata": {},
   "source": [
    "Q 7:Find the Greatest of the Three Numbers in Python Language"
   ]
  },
  {
   "cell_type": "code",
   "execution_count": 1,
   "metadata": {},
   "outputs": [
    {
     "name": "stdout",
     "output_type": "stream",
     "text": [
      "20\n"
     ]
    }
   ],
   "source": [
    "a=10\n",
    "b=20\n",
    "c=5\n",
    "\n",
    "if a>=b and a>=c:\n",
    "    print(a)\n",
    "elif b>=a and b>=c:\n",
    "    print(b)\n",
    "else:\n",
    "    print(c)"
   ]
  },
  {
   "cell_type": "markdown",
   "metadata": {},
   "source": [
    "Q 8:Check if a Year is a Leap Year or Not in Python"
   ]
  },
  {
   "cell_type": "code",
   "execution_count": 4,
   "metadata": {},
   "outputs": [
    {
     "name": "stdout",
     "output_type": "stream",
     "text": [
      "Not Leap Year\n"
     ]
    }
   ],
   "source": [
    "a=int(input(\"Enter A year to check Leap year or not\"))\n",
    "if a%400==0 or a%4==0 and a%100!=0:\n",
    "    print(\"Leap year\")\n",
    "else:\n",
    "    print(\"Not Leap Year\")"
   ]
  },
  {
   "cell_type": "markdown",
   "metadata": {},
   "source": [
    "Q 9:Check Whether a Number is a Prime or Not in Python"
   ]
  },
  {
   "cell_type": "code",
   "execution_count": 7,
   "metadata": {},
   "outputs": [
    {
     "name": "stdout",
     "output_type": "stream",
     "text": [
      "Prime\n"
     ]
    }
   ],
   "source": [
    "num=11\n",
    "flag=0\n",
    "for i in range(2,num):\n",
    "    if num%i==0:\n",
    "        flag+=1\n",
    "        break\n",
    "if flag ==1:\n",
    "    print(\"Not Prime\")\n",
    "else:\n",
    "    print(\"Prime\")"
   ]
  },
  {
   "cell_type": "markdown",
   "metadata": {},
   "source": [
    "Q 10:Python Program to Print Prime Numbers In a Given Range"
   ]
  },
  {
   "cell_type": "code",
   "execution_count": 9,
   "metadata": {},
   "outputs": [
    {
     "name": "stdout",
     "output_type": "stream",
     "text": [
      "[11, 13, 17, 19]\n"
     ]
    }
   ],
   "source": [
    "primes=[]\n",
    "a=11\n",
    "b=21\n",
    "for i in range(a,b):\n",
    "    flag=0\n",
    "    if i<2:\n",
    "        continue\n",
    "    if i==2:\n",
    "        primes.append(2)\n",
    "        continue\n",
    "    for j in range(2,i):\n",
    "        if i%j==0:\n",
    "            flag+=1\n",
    "            break\n",
    "    if flag==0:\n",
    "        primes.append(i)\n",
    "\n",
    "print(primes)\n"
   ]
  },
  {
   "cell_type": "markdown",
   "metadata": {},
   "source": [
    "Q 11.Find the sum of the Digits of a Number"
   ]
  },
  {
   "cell_type": "code",
   "execution_count": null,
   "metadata": {},
   "outputs": [
    {
     "name": "stdout",
     "output_type": "stream",
     "text": [
      "6\n"
     ]
    }
   ],
   "source": [
    "n=int(input(\"Enter a number\"))\n",
    "sum=0\n",
    "\n",
    "#By using string input \n",
    "# for i in n:\n",
    "#     sum=sum+int(i)\n",
    "# print(sum)\n",
    "\n",
    "#brute force method\n",
    "while n!=0:\n",
    "    rem=n%10\n",
    "    sum+=rem\n",
    "    n=n//10\n",
    "print(sum)\n"
   ]
  },
  {
   "cell_type": "markdown",
   "metadata": {},
   "source": [
    "Q12.Find the Reverse of a Number in Python Language"
   ]
  },
  {
   "cell_type": "code",
   "execution_count": 9,
   "metadata": {},
   "outputs": [
    {
     "name": "stdout",
     "output_type": "stream",
     "text": [
      "321\n"
     ]
    }
   ],
   "source": [
    "num=int(input(\"Enter the number\"))\n",
    "sum=0\n",
    "while num!=0:\n",
    "    reminder=num%10\n",
    "    sum=(sum*10)+reminder\n",
    "    num=num//10\n",
    "print(sum)"
   ]
  },
  {
   "cell_type": "markdown",
   "metadata": {},
   "source": [
    "Q 13.Check Whether or Not the Number is a Palindrome in Python Language"
   ]
  },
  {
   "cell_type": "code",
   "execution_count": 14,
   "metadata": {},
   "outputs": [
    {
     "data": {
      "text/plain": [
       "'Palindrome'"
      ]
     },
     "execution_count": 14,
     "metadata": {},
     "output_type": "execute_result"
    }
   ],
   "source": [
    "num=int(input(\"Enter the number\"))\n",
    "\n",
    "def palindrome(num):\n",
    "    original=num\n",
    "    sum=0\n",
    "    while num!=0:\n",
    "        reminder=num%10\n",
    "        sum=(sum*10)+reminder\n",
    "        num=num//10\n",
    "    \n",
    "    return \"Palindrome\" if sum==original else \"Not Palindrome\"\n",
    "\n",
    "palindrome(num)\n"
   ]
  },
  {
   "cell_type": "markdown",
   "metadata": {},
   "source": [
    "Q 14.Check Whether a Given Number is an Armstrong Number or No"
   ]
  },
  {
   "cell_type": "code",
   "execution_count": 18,
   "metadata": {},
   "outputs": [
    {
     "data": {
      "text/plain": [
       "'Not Amstrong'"
      ]
     },
     "execution_count": 18,
     "metadata": {},
     "output_type": "execute_result"
    }
   ],
   "source": [
    "num=int(input(\"Enter the number\"))\n",
    "\n",
    "def palindrome(num):\n",
    "    original=num\n",
    "    sum=0\n",
    "    while num!=0:\n",
    "        reminder=num%10\n",
    "        sum+=reminder**3 \n",
    "        num=num//10\n",
    "    \n",
    "    return \"Amstrong\" if sum==original else \"Not Amstrong\"\n",
    "\n",
    "palindrome(num)"
   ]
  },
  {
   "cell_type": "markdown",
   "metadata": {},
   "source": [
    "Q 15.Check Whether a Given Number is an Armstrong Number or No in range"
   ]
  },
  {
   "cell_type": "code",
   "execution_count": 29,
   "metadata": {},
   "outputs": [
    {
     "name": "stdout",
     "output_type": "stream",
     "text": [
      "Armstrong numbers: [153, 370, 371, 407]\n"
     ]
    }
   ],
   "source": [
    "num1 = int(input(\"Enter the number: \"))\n",
    "num2 = int(input(\"Enter the second number: \"))\n",
    "\n",
    "def armstrong_numbers(num1, num2):\n",
    "    armstrong_list = []\n",
    "    \n",
    "    for num in range(num1, num2 + 1):\n",
    "        order = len(str(num))\n",
    "        total = 0  # Renamed 'sum' to 'total' to avoid conflicts with the built-in function\n",
    "        temp = num\n",
    "        \n",
    "        while temp != 0:\n",
    "            remainder = temp % 10\n",
    "            total += remainder ** order\n",
    "            temp //= 10  # Integer division\n",
    "        \n",
    "        if num == total:  # Checking if the number is an Armstrong number\n",
    "            armstrong_list.append(num)\n",
    "    \n",
    "    return armstrong_list\n",
    "\n",
    "print(\"Armstrong numbers:\", armstrong_numbers(num1, num2))\n"
   ]
  },
  {
   "cell_type": "markdown",
   "metadata": {},
   "source": []
  },
  {
   "cell_type": "code",
   "execution_count": null,
   "metadata": {},
   "outputs": [],
   "source": []
  }
 ],
 "metadata": {
  "kernelspec": {
   "display_name": "Python 3",
   "language": "python",
   "name": "python3"
  },
  "language_info": {
   "codemirror_mode": {
    "name": "ipython",
    "version": 3
   },
   "file_extension": ".py",
   "mimetype": "text/x-python",
   "name": "python",
   "nbconvert_exporter": "python",
   "pygments_lexer": "ipython3",
   "version": "3.13.2"
  }
 },
 "nbformat": 4,
 "nbformat_minor": 2
}
